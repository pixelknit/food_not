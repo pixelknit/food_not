{
 "cells": [
  {
   "cell_type": "code",
   "execution_count": 2,
   "metadata": {},
   "outputs": [],
   "source": [
    "import pandas as pd\n",
    "import numpy as np\n",
    "import matplotlib.pyplot as plt\n",
    "import csv\n",
    "import ast"
   ]
  },
  {
   "cell_type": "code",
   "execution_count": 3,
   "metadata": {},
   "outputs": [],
   "source": [
    "with open(\"imagenetData/imagenet1000_clsidx_to_labels.txt\",\"r\") as f:\n",
    "    imagenet_classes = ast.literal_eval(f.read())\n",
    "    "
   ]
  },
  {
   "cell_type": "code",
   "execution_count": 4,
   "metadata": {},
   "outputs": [],
   "source": [
    "#food names from nltk"
   ]
  },
  {
   "cell_type": "code",
   "execution_count": 5,
   "metadata": {},
   "outputs": [
    {
     "name": "stderr",
     "output_type": "stream",
     "text": [
      "/opt/anaconda3/lib/python3.8/site-packages/nltk/corpus/reader/wordnet.py:580: UserWarning: Discarded redundant search for Synset('lunch_meat.n.01') at depth 3\n",
      "  for synset in acyclic_breadth_first(self, rel, depth):\n",
      "/opt/anaconda3/lib/python3.8/site-packages/nltk/corpus/reader/wordnet.py:580: UserWarning: Discarded redundant search for Synset('headcheese.n.01') at depth 3\n",
      "  for synset in acyclic_breadth_first(self, rel, depth):\n",
      "/opt/anaconda3/lib/python3.8/site-packages/nltk/corpus/reader/wordnet.py:580: UserWarning: Discarded redundant search for Synset('haslet.n.01') at depth 3\n",
      "  for synset in acyclic_breadth_first(self, rel, depth):\n",
      "/opt/anaconda3/lib/python3.8/site-packages/nltk/corpus/reader/wordnet.py:580: UserWarning: Discarded redundant search for Synset('leg_of_lamb.n.01') at depth 5\n",
      "  for synset in acyclic_breadth_first(self, rel, depth):\n",
      "/opt/anaconda3/lib/python3.8/site-packages/nltk/corpus/reader/wordnet.py:580: UserWarning: Discarded redundant search for Synset('rack_of_lamb.n.01') at depth 5\n",
      "  for synset in acyclic_breadth_first(self, rel, depth):\n"
     ]
    }
   ],
   "source": [
    "from nltk.corpus import wordnet as wn\n",
    "food = wn.synset(\"food.n.02\")\n",
    "food_list = list(set([w for s in food.closure(lambda s:s.hyponyms()) for w in s.lemma_names()]))"
   ]
  },
  {
   "cell_type": "code",
   "execution_count": 6,
   "metadata": {},
   "outputs": [
    {
     "data": {
      "text/plain": [
       "1621"
      ]
     },
     "execution_count": 6,
     "metadata": {},
     "output_type": "execute_result"
    }
   ],
   "source": [
    "len(food_list)"
   ]
  },
  {
   "cell_type": "code",
   "execution_count": 11,
   "metadata": {},
   "outputs": [
    {
     "data": {
      "text/plain": [
       "[['octopus'],\n",
       " ['english', 'sole'],\n",
       " ['spatchcock'],\n",
       " ['annon'],\n",
       " ['doughnut'],\n",
       " ['breadfruit'],\n",
       " ['cream', 'puff'],\n",
       " ['acerola'],\n",
       " ['pemmican'],\n",
       " ['european', 'smelt']]"
      ]
     },
     "execution_count": 11,
     "metadata": {},
     "output_type": "execute_result"
    }
   ],
   "source": [
    "#Filter food items out of ImageNet list\n",
    "import string\n",
    "\n",
    "food_list = [food_item.lower().split(\"_\") for food_item in food_list]\n",
    "food_list[:10]\n",
    "\n",
    "\n",
    "\n"
   ]
  },
  {
   "cell_type": "code",
   "execution_count": 12,
   "metadata": {},
   "outputs": [
    {
     "data": {
      "text/plain": [
       "['octopus',\n",
       " 'english',\n",
       " 'sole',\n",
       " 'spatchcock',\n",
       " 'annon',\n",
       " 'doughnut',\n",
       " 'breadfruit',\n",
       " 'cream',\n",
       " 'puff',\n",
       " 'acerola']"
      ]
     },
     "execution_count": 12,
     "metadata": {},
     "output_type": "execute_result"
    }
   ],
   "source": [
    "flat_food_list = [food for food_sub_list in food_list for food in food_sub_list]\n",
    "flat_food_list[:10]"
   ]
  },
  {
   "cell_type": "code",
   "execution_count": 13,
   "metadata": {},
   "outputs": [
    {
     "data": {
      "text/plain": [
       "{'string_1'}"
      ]
     },
     "execution_count": 13,
     "metadata": {},
     "output_type": "execute_result"
    }
   ],
   "source": [
    "intersect_str = set([\"string_1\", \"string_2\"]).intersection(set([\"string_1\"]))\n",
    "intersect_str"
   ]
  },
  {
   "cell_type": "code",
   "execution_count": 14,
   "metadata": {},
   "outputs": [
    {
     "data": {
      "text/plain": [
       "{8: 'hen',\n",
       " 82: 'ruffed grouse, partridge, Bonasa umbellus',\n",
       " 85: 'quail',\n",
       " 86: 'partridge',\n",
       " 99: 'goose',\n",
       " 113: 'snail',\n",
       " 123: 'spiny lobster, langouste, rock lobster, crawfish, crayfish, sea crawfish',\n",
       " 124: 'crayfish, crawfish, crawdad, crawdaddy',\n",
       " 331: 'hare',\n",
       " 339: 'sorrel',\n",
       " 341: 'hog, pig, grunter, squealer, Sus scrofa',\n",
       " 390: 'eel',\n",
       " 391: 'coho, cohoe, coho salmon, blue jack, silver salmon, Oncorhynchus kisutch',\n",
       " 397: 'puffer, pufferfish, blowfish, globefish',\n",
       " 457: 'bow tie, bow-tie, bowtie',\n",
       " 494: 'chime, bell, gong',\n",
       " 567: 'frying pan, frypan, skillet',\n",
       " 599: 'honeycomb',\n",
       " 600: 'hook, claw',\n",
       " 626: 'lighter, light, igniter, ignitor',\n",
       " 723: 'pinwheel',\n",
       " 738: 'pot, flowerpot',\n",
       " 750: 'quilt, comforter, comfort, puff',\n",
       " 760: 'refrigerator, icebox',\n",
       " 923: 'plate',\n",
       " 931: 'bagel, beigel',\n",
       " 932: 'pretzel',\n",
       " 934: 'hotdog, hot dog, red hot',\n",
       " 937: 'broccoli',\n",
       " 938: 'cauliflower',\n",
       " 939: 'zucchini, courgette',\n",
       " 943: 'cucumber, cuke',\n",
       " 944: 'artichoke, globe artichoke',\n",
       " 946: 'cardoon',\n",
       " 947: 'mushroom',\n",
       " 949: 'strawberry',\n",
       " 950: 'orange',\n",
       " 951: 'lemon',\n",
       " 952: 'fig',\n",
       " 953: 'pineapple, ananas',\n",
       " 954: 'banana',\n",
       " 955: 'jackfruit, jak, jack',\n",
       " 957: 'pomegranate',\n",
       " 962: 'meat loaf, meatloaf',\n",
       " 968: 'cup',\n",
       " 972: 'cliff, drop, drop-off',\n",
       " 976: 'promontory, headland, head, foreland',\n",
       " 987: 'corn',\n",
       " 988: 'acorn'}"
      ]
     },
     "execution_count": 14,
     "metadata": {},
     "output_type": "execute_result"
    }
   ],
   "source": [
    "# Check ImageNet classes for foods\n",
    "imagenet_food_classes = {}\n",
    "# Look at imagenet classes\n",
    "for k, v in imagenet_classes.items():\n",
    "    # Get value from imagenet classes (string)\n",
    "    # print(v.lower().split(\",\"))\n",
    "    imagenet_class_set = set([space_word.strip(\" \") for space_word in v.lower().split(\",\")])\n",
    "    # print([imagenet_class_set]) \n",
    "    # See if value appears in flat_food_list \n",
    "    if imagenet_class_set.intersection(flat_food_list):\n",
    "        imagenet_food_classes[k] = v\n",
    "        # print(k, v)\n",
    "imagenet_food_classes"
   ]
  },
  {
   "cell_type": "code",
   "execution_count": 15,
   "metadata": {},
   "outputs": [
    {
     "data": {
      "text/plain": [
       "49"
      ]
     },
     "execution_count": 15,
     "metadata": {},
     "output_type": "execute_result"
    }
   ],
   "source": [
    "len(imagenet_food_classes)"
   ]
  },
  {
   "cell_type": "code",
   "execution_count": 16,
   "metadata": {},
   "outputs": [
    {
     "ename": "NameError",
     "evalue": "name 'non_food_classes_manual_sort' is not defined",
     "output_type": "error",
     "traceback": [
      "\u001b[0;31m---------------------------------------------------------------------------\u001b[0m",
      "\u001b[0;31mNameError\u001b[0m                                 Traceback (most recent call last)",
      "\u001b[0;32m<ipython-input-16-89bd24245cc7>\u001b[0m in \u001b[0;36m<module>\u001b[0;34m\u001b[0m\n\u001b[1;32m      1\u001b[0m \u001b[0mimagenet_manual_fitlered_food_classes\u001b[0m \u001b[0;34m=\u001b[0m \u001b[0;34m{\u001b[0m\u001b[0;34m}\u001b[0m\u001b[0;34m\u001b[0m\u001b[0;34m\u001b[0m\u001b[0m\n\u001b[1;32m      2\u001b[0m \u001b[0;32mfor\u001b[0m \u001b[0mk\u001b[0m\u001b[0;34m,\u001b[0m \u001b[0mv\u001b[0m \u001b[0;32min\u001b[0m \u001b[0mimagenet_food_classes\u001b[0m\u001b[0;34m.\u001b[0m\u001b[0mitems\u001b[0m\u001b[0;34m(\u001b[0m\u001b[0;34m)\u001b[0m\u001b[0;34m:\u001b[0m\u001b[0;34m\u001b[0m\u001b[0;34m\u001b[0m\u001b[0m\n\u001b[0;32m----> 3\u001b[0;31m     \u001b[0;32mif\u001b[0m \u001b[0mk\u001b[0m \u001b[0;32mnot\u001b[0m \u001b[0;32min\u001b[0m \u001b[0mnon_food_classes_manual_sort\u001b[0m\u001b[0;34m:\u001b[0m \u001b[0;31m# don't won't keys that aren't food (from the manual sort)\u001b[0m\u001b[0;34m\u001b[0m\u001b[0;34m\u001b[0m\u001b[0m\n\u001b[0m\u001b[1;32m      4\u001b[0m         \u001b[0mimagenet_manual_fitlered_food_classes\u001b[0m\u001b[0;34m[\u001b[0m\u001b[0mk\u001b[0m\u001b[0;34m]\u001b[0m \u001b[0;34m=\u001b[0m \u001b[0mv\u001b[0m\u001b[0;34m\u001b[0m\u001b[0;34m\u001b[0m\u001b[0m\n\u001b[1;32m      5\u001b[0m \u001b[0mimagenet_manual_fitlered_food_classes\u001b[0m\u001b[0;34m\u001b[0m\u001b[0;34m\u001b[0m\u001b[0m\n",
      "\u001b[0;31mNameError\u001b[0m: name 'non_food_classes_manual_sort' is not defined"
     ]
    }
   ],
   "source": [
    "imagenet_manual_fitlered_food_classes = {}\n",
    "for k, v in imagenet_food_classes.items():\n",
    "    if k not in non_food_classes_manual_sort: # don't won't keys that aren't food (from the manual sort)\n",
    "        imagenet_manual_fitlered_food_classes[k] = v\n",
    "imagenet_manual_fitlered_food_classes"
   ]
  },
  {
   "cell_type": "code",
   "execution_count": null,
   "metadata": {},
   "outputs": [],
   "source": []
  }
 ],
 "metadata": {
  "interpreter": {
   "hash": "40d3a090f54c6569ab1632332b64b2c03c39dcf918b08424e98f38b5ae0af88f"
  },
  "kernelspec": {
   "display_name": "Python 3.8.8 64-bit (conda)",
   "name": "python3"
  },
  "language_info": {
   "codemirror_mode": {
    "name": "ipython",
    "version": 3
   },
   "file_extension": ".py",
   "mimetype": "text/x-python",
   "name": "python",
   "nbconvert_exporter": "python",
   "pygments_lexer": "ipython3",
   "version": "3.8.8"
  },
  "orig_nbformat": 4
 },
 "nbformat": 4,
 "nbformat_minor": 2
}

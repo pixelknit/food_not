{
 "cells": [
  {
   "cell_type": "code",
   "execution_count": 7,
   "metadata": {},
   "outputs": [],
   "source": [
    "import pandas as pd\n",
    "import numpy as np\n",
    "import matplotlib.pyplot as plt\n",
    "import csv\n",
    "import ast"
   ]
  },
  {
   "cell_type": "code",
   "execution_count": 8,
   "metadata": {},
   "outputs": [],
   "source": [
    "with open(\"imagenetData/imagenet1000_clsidx_to_labels.txt\",\"r\") as f:\n",
    "    imagenet_classes = ast.literal_eval(f.read())\n",
    "    "
   ]
  },
  {
   "cell_type": "code",
   "execution_count": 9,
   "metadata": {},
   "outputs": [],
   "source": [
    "#food names from nltk"
   ]
  },
  {
   "cell_type": "code",
   "execution_count": 10,
   "metadata": {},
   "outputs": [
    {
     "name": "stderr",
     "output_type": "stream",
     "text": [
      "/Users/felipepesantez/miniforge3/lib/python3.9/site-packages/nltk/corpus/reader/wordnet.py:579: UserWarning: Discarded redundant search for Synset('lunch_meat.n.01') at depth 3\n",
      "  for synset in acyclic_breadth_first(self, rel, depth):\n",
      "/Users/felipepesantez/miniforge3/lib/python3.9/site-packages/nltk/corpus/reader/wordnet.py:579: UserWarning: Discarded redundant search for Synset('headcheese.n.01') at depth 3\n",
      "  for synset in acyclic_breadth_first(self, rel, depth):\n",
      "/Users/felipepesantez/miniforge3/lib/python3.9/site-packages/nltk/corpus/reader/wordnet.py:579: UserWarning: Discarded redundant search for Synset('haslet.n.01') at depth 3\n",
      "  for synset in acyclic_breadth_first(self, rel, depth):\n",
      "/Users/felipepesantez/miniforge3/lib/python3.9/site-packages/nltk/corpus/reader/wordnet.py:579: UserWarning: Discarded redundant search for Synset('leg_of_lamb.n.01') at depth 5\n",
      "  for synset in acyclic_breadth_first(self, rel, depth):\n",
      "/Users/felipepesantez/miniforge3/lib/python3.9/site-packages/nltk/corpus/reader/wordnet.py:579: UserWarning: Discarded redundant search for Synset('rack_of_lamb.n.01') at depth 5\n",
      "  for synset in acyclic_breadth_first(self, rel, depth):\n"
     ]
    }
   ],
   "source": [
    "from nltk.corpus import wordnet as wn\n",
    "food = wn.synset(\"food.n.02\")\n",
    "food_list = list(set([w for s in food.closure(lambda s:s.hyponyms()) for w in s.lemma_names()]))"
   ]
  },
  {
   "cell_type": "code",
   "execution_count": 11,
   "metadata": {},
   "outputs": [
    {
     "data": {
      "text/plain": [
       "1621"
      ]
     },
     "execution_count": 11,
     "metadata": {},
     "output_type": "execute_result"
    }
   ],
   "source": [
    "len(food_list)"
   ]
  },
  {
   "cell_type": "code",
   "execution_count": 12,
   "metadata": {},
   "outputs": [
    {
     "data": {
      "text/plain": [
       "[['jerky'],\n",
       " ['coffee', 'roll'],\n",
       " ['yellowtail', 'flounder'],\n",
       " ['vol-au-vent'],\n",
       " ['muscatel'],\n",
       " ['brain'],\n",
       " ['nut', 'bread'],\n",
       " ['mexican', 'husk', 'tomato'],\n",
       " ['beigel'],\n",
       " ['rump']]"
      ]
     },
     "execution_count": 12,
     "metadata": {},
     "output_type": "execute_result"
    }
   ],
   "source": [
    "#Filter food items out of ImageNet list\n",
    "import string\n",
    "\n",
    "food_list = [food_item.lower().split(\"_\") for food_item in food_list]\n",
    "food_list[:10]\n",
    "\n",
    "\n",
    "\n"
   ]
  },
  {
   "cell_type": "code",
   "execution_count": 13,
   "metadata": {},
   "outputs": [
    {
     "data": {
      "text/plain": [
       "['jerky',\n",
       " 'coffee',\n",
       " 'roll',\n",
       " 'yellowtail',\n",
       " 'flounder',\n",
       " 'vol-au-vent',\n",
       " 'muscatel',\n",
       " 'brain',\n",
       " 'nut',\n",
       " 'bread']"
      ]
     },
     "execution_count": 13,
     "metadata": {},
     "output_type": "execute_result"
    }
   ],
   "source": [
    "flat_food_list = [food for food_sub_list in food_list for food in food_sub_list]\n",
    "flat_food_list[:10]"
   ]
  },
  {
   "cell_type": "code",
   "execution_count": 14,
   "metadata": {},
   "outputs": [
    {
     "data": {
      "text/plain": [
       "{'string_1'}"
      ]
     },
     "execution_count": 14,
     "metadata": {},
     "output_type": "execute_result"
    }
   ],
   "source": [
    "intersect_str = set([\"string_1\", \"string_2\"]).intersection(set([\"string_1\"]))\n",
    "intersect_str"
   ]
  },
  {
   "cell_type": "code",
   "execution_count": 15,
   "metadata": {},
   "outputs": [
    {
     "data": {
      "text/plain": [
       "{8: 'hen',\n",
       " 82: 'ruffed grouse, partridge, Bonasa umbellus',\n",
       " 85: 'quail',\n",
       " 86: 'partridge',\n",
       " 99: 'goose',\n",
       " 113: 'snail',\n",
       " 123: 'spiny lobster, langouste, rock lobster, crawfish, crayfish, sea crawfish',\n",
       " 124: 'crayfish, crawfish, crawdad, crawdaddy',\n",
       " 331: 'hare',\n",
       " 339: 'sorrel',\n",
       " 341: 'hog, pig, grunter, squealer, Sus scrofa',\n",
       " 390: 'eel',\n",
       " 391: 'coho, cohoe, coho salmon, blue jack, silver salmon, Oncorhynchus kisutch',\n",
       " 397: 'puffer, pufferfish, blowfish, globefish',\n",
       " 457: 'bow tie, bow-tie, bowtie',\n",
       " 494: 'chime, bell, gong',\n",
       " 567: 'frying pan, frypan, skillet',\n",
       " 599: 'honeycomb',\n",
       " 600: 'hook, claw',\n",
       " 626: 'lighter, light, igniter, ignitor',\n",
       " 723: 'pinwheel',\n",
       " 738: 'pot, flowerpot',\n",
       " 750: 'quilt, comforter, comfort, puff',\n",
       " 760: 'refrigerator, icebox',\n",
       " 923: 'plate',\n",
       " 931: 'bagel, beigel',\n",
       " 932: 'pretzel',\n",
       " 934: 'hotdog, hot dog, red hot',\n",
       " 937: 'broccoli',\n",
       " 938: 'cauliflower',\n",
       " 939: 'zucchini, courgette',\n",
       " 943: 'cucumber, cuke',\n",
       " 944: 'artichoke, globe artichoke',\n",
       " 946: 'cardoon',\n",
       " 947: 'mushroom',\n",
       " 949: 'strawberry',\n",
       " 950: 'orange',\n",
       " 951: 'lemon',\n",
       " 952: 'fig',\n",
       " 953: 'pineapple, ananas',\n",
       " 954: 'banana',\n",
       " 955: 'jackfruit, jak, jack',\n",
       " 957: 'pomegranate',\n",
       " 962: 'meat loaf, meatloaf',\n",
       " 968: 'cup',\n",
       " 972: 'cliff, drop, drop-off',\n",
       " 976: 'promontory, headland, head, foreland',\n",
       " 987: 'corn',\n",
       " 988: 'acorn'}"
      ]
     },
     "execution_count": 15,
     "metadata": {},
     "output_type": "execute_result"
    }
   ],
   "source": [
    "# Check ImageNet classes for foods\n",
    "imagenet_food_classes = {}\n",
    "# Look at imagenet classes\n",
    "for k, v in imagenet_classes.items():\n",
    "    # Get value from imagenet classes (string)\n",
    "    # print(v.lower().split(\",\"))\n",
    "    imagenet_class_set = set([space_word.strip(\" \") for space_word in v.lower().split(\",\")])\n",
    "    # print([imagenet_class_set]) \n",
    "    # See if value appears in flat_food_list \n",
    "    if imagenet_class_set.intersection(flat_food_list):\n",
    "        imagenet_food_classes[k] = v\n",
    "        # print(k, v)\n",
    "imagenet_food_classes"
   ]
  },
  {
   "cell_type": "code",
   "execution_count": 16,
   "metadata": {},
   "outputs": [
    {
     "data": {
      "text/plain": [
       "49"
      ]
     },
     "execution_count": 16,
     "metadata": {},
     "output_type": "execute_result"
    }
   ],
   "source": [
    "len(imagenet_food_classes)"
   ]
  },
  {
   "cell_type": "code",
   "execution_count": 26,
   "metadata": {},
   "outputs": [
    {
     "data": {
      "text/html": [
       "<div>\n",
       "<style scoped>\n",
       "    .dataframe tbody tr th:only-of-type {\n",
       "        vertical-align: middle;\n",
       "    }\n",
       "\n",
       "    .dataframe tbody tr th {\n",
       "        vertical-align: top;\n",
       "    }\n",
       "\n",
       "    .dataframe thead th {\n",
       "        text-align: right;\n",
       "    }\n",
       "</style>\n",
       "<table border=\"1\" class=\"dataframe\">\n",
       "  <thead>\n",
       "    <tr style=\"text-align: right;\">\n",
       "      <th></th>\n",
       "      <th>synid</th>\n",
       "      <th>class_name</th>\n",
       "      <th>urls</th>\n",
       "      <th>flickr_urls</th>\n",
       "    </tr>\n",
       "  </thead>\n",
       "  <tbody>\n",
       "    <tr>\n",
       "      <th>0</th>\n",
       "      <td>n00004475</td>\n",
       "      <td>organism</td>\n",
       "      <td>8</td>\n",
       "      <td>6</td>\n",
       "    </tr>\n",
       "    <tr>\n",
       "      <th>1</th>\n",
       "      <td>n00005787</td>\n",
       "      <td>benthos</td>\n",
       "      <td>1264</td>\n",
       "      <td>626</td>\n",
       "    </tr>\n",
       "    <tr>\n",
       "      <th>2</th>\n",
       "      <td>n00006024</td>\n",
       "      <td>heterotroph</td>\n",
       "      <td>1</td>\n",
       "      <td>0</td>\n",
       "    </tr>\n",
       "    <tr>\n",
       "      <th>3</th>\n",
       "      <td>n00006484</td>\n",
       "      <td>cell</td>\n",
       "      <td>1251</td>\n",
       "      <td>628</td>\n",
       "    </tr>\n",
       "    <tr>\n",
       "      <th>4</th>\n",
       "      <td>n00007846</td>\n",
       "      <td>person</td>\n",
       "      <td>1242</td>\n",
       "      <td>1138</td>\n",
       "    </tr>\n",
       "  </tbody>\n",
       "</table>\n",
       "</div>"
      ],
      "text/plain": [
       "       synid   class_name  urls  flickr_urls\n",
       "0  n00004475     organism     8            6\n",
       "1  n00005787      benthos  1264          626\n",
       "2  n00006024  heterotroph     1            0\n",
       "3  n00006484         cell  1251          628\n",
       "4  n00007846       person  1242         1138"
      ]
     },
     "execution_count": 26,
     "metadata": {},
     "output_type": "execute_result"
    }
   ],
   "source": [
    "df = pd.read_csv(\"https://raw.githubusercontent.com/mf1024/ImageNet-Datasets-Downloader/master/classes_in_imagenet.csv\", error_bad_lines=False)\n",
    "df[\"class_name\"]  = df[\"class_name\"].str.lower()\n",
    "df.head()"
   ]
  },
  {
   "cell_type": "code",
   "execution_count": 29,
   "metadata": {},
   "outputs": [],
   "source": [
    "df.dropna(inplace=True)"
   ]
  },
  {
   "cell_type": "code",
   "execution_count": 33,
   "metadata": {},
   "outputs": [
    {
     "data": {
      "text/html": [
       "<div>\n",
       "<style scoped>\n",
       "    .dataframe tbody tr th:only-of-type {\n",
       "        vertical-align: middle;\n",
       "    }\n",
       "\n",
       "    .dataframe tbody tr th {\n",
       "        vertical-align: top;\n",
       "    }\n",
       "\n",
       "    .dataframe thead th {\n",
       "        text-align: right;\n",
       "    }\n",
       "</style>\n",
       "<table border=\"1\" class=\"dataframe\">\n",
       "  <thead>\n",
       "    <tr style=\"text-align: right;\">\n",
       "      <th></th>\n",
       "      <th>synid</th>\n",
       "      <th>class_name</th>\n",
       "      <th>urls</th>\n",
       "      <th>flickr_urls</th>\n",
       "    </tr>\n",
       "  </thead>\n",
       "  <tbody>\n",
       "    <tr>\n",
       "      <th>0</th>\n",
       "      <td>n00004475</td>\n",
       "      <td>organism</td>\n",
       "      <td>8</td>\n",
       "      <td>6</td>\n",
       "    </tr>\n",
       "    <tr>\n",
       "      <th>1</th>\n",
       "      <td>n00005787</td>\n",
       "      <td>benthos</td>\n",
       "      <td>1264</td>\n",
       "      <td>626</td>\n",
       "    </tr>\n",
       "    <tr>\n",
       "      <th>2</th>\n",
       "      <td>n00006024</td>\n",
       "      <td>heterotroph</td>\n",
       "      <td>1</td>\n",
       "      <td>0</td>\n",
       "    </tr>\n",
       "    <tr>\n",
       "      <th>3</th>\n",
       "      <td>n00006484</td>\n",
       "      <td>cell</td>\n",
       "      <td>1251</td>\n",
       "      <td>628</td>\n",
       "    </tr>\n",
       "    <tr>\n",
       "      <th>4</th>\n",
       "      <td>n00007846</td>\n",
       "      <td>person</td>\n",
       "      <td>1242</td>\n",
       "      <td>1138</td>\n",
       "    </tr>\n",
       "    <tr>\n",
       "      <th>...</th>\n",
       "      <td>...</td>\n",
       "      <td>...</td>\n",
       "      <td>...</td>\n",
       "      <td>...</td>\n",
       "    </tr>\n",
       "    <tr>\n",
       "      <th>21836</th>\n",
       "      <td>n15093137</td>\n",
       "      <td>vitamin p</td>\n",
       "      <td>1233</td>\n",
       "      <td>27</td>\n",
       "    </tr>\n",
       "    <tr>\n",
       "      <th>21837</th>\n",
       "      <td>n15093298</td>\n",
       "      <td>vitamin c</td>\n",
       "      <td>1268</td>\n",
       "      <td>824</td>\n",
       "    </tr>\n",
       "    <tr>\n",
       "      <th>21838</th>\n",
       "      <td>n15102359</td>\n",
       "      <td>planking</td>\n",
       "      <td>1</td>\n",
       "      <td>1</td>\n",
       "    </tr>\n",
       "    <tr>\n",
       "      <th>21839</th>\n",
       "      <td>n15102455</td>\n",
       "      <td>chipboard</td>\n",
       "      <td>1316</td>\n",
       "      <td>474</td>\n",
       "    </tr>\n",
       "    <tr>\n",
       "      <th>21840</th>\n",
       "      <td>n15102894</td>\n",
       "      <td>knothole</td>\n",
       "      <td>928</td>\n",
       "      <td>680</td>\n",
       "    </tr>\n",
       "  </tbody>\n",
       "</table>\n",
       "<p>20898 rows × 4 columns</p>\n",
       "</div>"
      ],
      "text/plain": [
       "           synid   class_name  urls  flickr_urls\n",
       "0      n00004475     organism     8            6\n",
       "1      n00005787      benthos  1264          626\n",
       "2      n00006024  heterotroph     1            0\n",
       "3      n00006484         cell  1251          628\n",
       "4      n00007846       person  1242         1138\n",
       "...          ...          ...   ...          ...\n",
       "21836  n15093137    vitamin p  1233           27\n",
       "21837  n15093298    vitamin c  1268          824\n",
       "21838  n15102359     planking     1            1\n",
       "21839  n15102455    chipboard  1316          474\n",
       "21840  n15102894     knothole   928          680\n",
       "\n",
       "[20898 rows x 4 columns]"
      ]
     },
     "execution_count": 33,
     "metadata": {},
     "output_type": "execute_result"
    }
   ],
   "source": [
    "#filter dataframe from food classes\n",
    "df_non_food = df[~df[\"class_name\"].isin(flat_food_list)]\n",
    "df_non_food"
   ]
  },
  {
   "cell_type": "code",
   "execution_count": null,
   "metadata": {},
   "outputs": [],
   "source": []
  }
 ],
 "metadata": {
  "interpreter": {
   "hash": "40d3a090f54c6569ab1632332b64b2c03c39dcf918b08424e98f38b5ae0af88f"
  },
  "kernelspec": {
   "display_name": "Python 3.8.8 64-bit (conda)",
   "name": "python3"
  },
  "language_info": {
   "codemirror_mode": {
    "name": "ipython",
    "version": 3
   },
   "file_extension": ".py",
   "mimetype": "text/x-python",
   "name": "python",
   "nbconvert_exporter": "python",
   "pygments_lexer": "ipython3",
   "version": "3.9.4"
  },
  "orig_nbformat": 4
 },
 "nbformat": 4,
 "nbformat_minor": 2
}
